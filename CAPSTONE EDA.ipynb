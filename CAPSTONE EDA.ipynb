{
 "cells": [
  {
   "cell_type": "markdown",
   "id": "9d54e91d",
   "metadata": {},
   "source": [
    "### Problem Statement:\n"
   ]
  },
  {
   "cell_type": "markdown",
   "id": "b0c28934",
   "metadata": {},
   "source": [
    "The objective of this study is to develop a predictive model using an online shop's customer sales dataset. The model aims to estimate the 'Revenue_Total' by leveraging the following customer demographics and transactional information:\n",
    "\n",
    "1.Customer_id = unique customer id\n",
    "2.Age = customer's age\n",
    "3.Gender = 0: Male, 1: Female\n",
    "4.Revenue_Total = total sales by customer\n",
    "5.N_Purchases = number of purchases to date\n",
    "6.Purchase_DATE = date latest purchase, dd.mm.yy\n",
    "7.Purchase_VALUE = latest purchase in €\n",
    "8.Pay_Method = 0: Digital Wallets, 1: Card, 2: PayPal, 3: Other\n",
    "9.Time_Spent = time spent (in sec) on website\n",
    "10.Browser = 0: Chrome, 1: Safari, 2: Edge, 3: Other\n",
    "11.Newsletter = 0: not subscribed, 1: subscribed\n",
    "12.Voucher = 0: not used, 1: used\n",
    "\n",
    "The goal is to utilize these features to create an accurate model that predicts the total revenue generated from customer purchases.\n"
   ]
  },
  {
   "cell_type": "markdown",
   "id": "61a065cb",
   "metadata": {},
   "source": [
    "### Nature of Target Variable:\n",
    "The 'Revenue_Total' is a continuous numerical variable representing the total revenue generated from each customers purchases. The goal is to predict this variable accurately to understand and optimize sales performance."
   ]
  },
  {
   "cell_type": "markdown",
   "id": "096b6712",
   "metadata": {},
   "source": [
    "### Predicting 'Revenue_Total' helps businesses:\n",
    "1. Understand customer spending patterns and optimize marketing strategies.\n",
    "2. Identify high-value customers and tailor personalized offers.\n",
    "3. Forecast future sales, maximize profitability, and enhance customer satisfaction."
   ]
  },
  {
   "cell_type": "markdown",
   "id": "e4541ddd",
   "metadata": {},
   "source": [
    "### Importing the libraries"
   ]
  },
  {
   "cell_type": "code",
   "execution_count": 1,
   "id": "63cff9be",
   "metadata": {},
   "outputs": [],
   "source": [
    "import pandas as pd\n",
    "import matplotlib.pyplot as plt\n",
    "import seaborn as sns\n",
    "import numpy as np\n"
   ]
  },
  {
   "cell_type": "markdown",
   "id": "693121e1",
   "metadata": {},
   "source": [
    "### Loading the dataset"
   ]
  },
  {
   "cell_type": "code",
   "execution_count": 2,
   "id": "e96d9ea8",
   "metadata": {},
   "outputs": [],
   "source": [
    "df = pd.read_csv(r\"C:\\Users\\HP\\Downloads\\python learning\\capstone.csv\")"
   ]
  },
  {
   "cell_type": "markdown",
   "id": "9aeb83ed",
   "metadata": {},
   "source": [
    "### Exploratory Data Analysis (EDA)"
   ]
  },
  {
   "cell_type": "markdown",
   "id": "93539b9f",
   "metadata": {},
   "source": [
    "Exploratory Data Analysis (EDA) is like the first step in understanding a story. It helps us dig deep into how the data is organized, find hidden patterns, and discover important trends. During EDA, we look closely at how each piece of information is spread out, check if things are connected, and find out the special connections between different parts.\n",
    "\n",
    "We use visual tools a lot during EDA. These tools help us see the data clearly, understand how customers behave, and figure out what things might affect the 'Revenue_Total'."
   ]
  },
  {
   "cell_type": "code",
   "execution_count": 8,
   "id": "5916f9ef",
   "metadata": {},
   "outputs": [
    {
     "data": {
      "text/html": [
       "<div>\n",
       "<style scoped>\n",
       "    .dataframe tbody tr th:only-of-type {\n",
       "        vertical-align: middle;\n",
       "    }\n",
       "\n",
       "    .dataframe tbody tr th {\n",
       "        vertical-align: top;\n",
       "    }\n",
       "\n",
       "    .dataframe thead th {\n",
       "        text-align: right;\n",
       "    }\n",
       "</style>\n",
       "<table border=\"1\" class=\"dataframe\">\n",
       "  <thead>\n",
       "    <tr style=\"text-align: right;\">\n",
       "      <th></th>\n",
       "      <th>Customer_id</th>\n",
       "      <th>Age</th>\n",
       "      <th>Gender</th>\n",
       "      <th>Revenue_Total</th>\n",
       "      <th>N_Purchases</th>\n",
       "      <th>Purchase_DATE</th>\n",
       "      <th>Purchase_VALUE</th>\n",
       "      <th>Pay_Method</th>\n",
       "      <th>Time_Spent</th>\n",
       "      <th>Browser</th>\n",
       "      <th>Newsletter</th>\n",
       "      <th>Voucher</th>\n",
       "    </tr>\n",
       "  </thead>\n",
       "  <tbody>\n",
       "    <tr>\n",
       "      <th>0</th>\n",
       "      <td>504308</td>\n",
       "      <td>53</td>\n",
       "      <td>0</td>\n",
       "      <td>45.3</td>\n",
       "      <td>2</td>\n",
       "      <td>22.06.21</td>\n",
       "      <td>24.915</td>\n",
       "      <td>1</td>\n",
       "      <td>885</td>\n",
       "      <td>0</td>\n",
       "      <td>0</td>\n",
       "      <td>0</td>\n",
       "    </tr>\n",
       "    <tr>\n",
       "      <th>1</th>\n",
       "      <td>504309</td>\n",
       "      <td>18</td>\n",
       "      <td>1</td>\n",
       "      <td>36.2</td>\n",
       "      <td>3</td>\n",
       "      <td>10.12.21</td>\n",
       "      <td>2.896</td>\n",
       "      <td>2</td>\n",
       "      <td>656</td>\n",
       "      <td>0</td>\n",
       "      <td>0</td>\n",
       "      <td>1</td>\n",
       "    </tr>\n",
       "    <tr>\n",
       "      <th>2</th>\n",
       "      <td>504310</td>\n",
       "      <td>52</td>\n",
       "      <td>1</td>\n",
       "      <td>10.6</td>\n",
       "      <td>1</td>\n",
       "      <td>14.03.21</td>\n",
       "      <td>10.600</td>\n",
       "      <td>0</td>\n",
       "      <td>761</td>\n",
       "      <td>0</td>\n",
       "      <td>1</td>\n",
       "      <td>0</td>\n",
       "    </tr>\n",
       "    <tr>\n",
       "      <th>3</th>\n",
       "      <td>504311</td>\n",
       "      <td>29</td>\n",
       "      <td>0</td>\n",
       "      <td>54.1</td>\n",
       "      <td>5</td>\n",
       "      <td>25.10.21</td>\n",
       "      <td>43.280</td>\n",
       "      <td>1</td>\n",
       "      <td>906</td>\n",
       "      <td>0</td>\n",
       "      <td>1</td>\n",
       "      <td>0</td>\n",
       "    </tr>\n",
       "    <tr>\n",
       "      <th>4</th>\n",
       "      <td>504312</td>\n",
       "      <td>21</td>\n",
       "      <td>1</td>\n",
       "      <td>56.9</td>\n",
       "      <td>1</td>\n",
       "      <td>14.09.21</td>\n",
       "      <td>56.900</td>\n",
       "      <td>1</td>\n",
       "      <td>605</td>\n",
       "      <td>0</td>\n",
       "      <td>1</td>\n",
       "      <td>0</td>\n",
       "    </tr>\n",
       "  </tbody>\n",
       "</table>\n",
       "</div>"
      ],
      "text/plain": [
       "   Customer_id  Age  Gender  Revenue_Total  N_Purchases Purchase_DATE  \\\n",
       "0       504308   53       0           45.3            2      22.06.21   \n",
       "1       504309   18       1           36.2            3      10.12.21   \n",
       "2       504310   52       1           10.6            1      14.03.21   \n",
       "3       504311   29       0           54.1            5      25.10.21   \n",
       "4       504312   21       1           56.9            1      14.09.21   \n",
       "\n",
       "   Purchase_VALUE  Pay_Method  Time_Spent  Browser  Newsletter  Voucher  \n",
       "0          24.915           1         885        0           0        0  \n",
       "1           2.896           2         656        0           0        1  \n",
       "2          10.600           0         761        0           1        0  \n",
       "3          43.280           1         906        0           1        0  \n",
       "4          56.900           1         605        0           1        0  "
      ]
     },
     "execution_count": 8,
     "metadata": {},
     "output_type": "execute_result"
    }
   ],
   "source": [
    "# Display the first few rows of the dataset\n",
    "df.head()\n"
   ]
  },
  {
   "cell_type": "code",
   "execution_count": 9,
   "id": "5ddd7220",
   "metadata": {},
   "outputs": [
    {
     "data": {
      "text/html": [
       "<div>\n",
       "<style scoped>\n",
       "    .dataframe tbody tr th:only-of-type {\n",
       "        vertical-align: middle;\n",
       "    }\n",
       "\n",
       "    .dataframe tbody tr th {\n",
       "        vertical-align: top;\n",
       "    }\n",
       "\n",
       "    .dataframe thead th {\n",
       "        text-align: right;\n",
       "    }\n",
       "</style>\n",
       "<table border=\"1\" class=\"dataframe\">\n",
       "  <thead>\n",
       "    <tr style=\"text-align: right;\">\n",
       "      <th></th>\n",
       "      <th>Customer_id</th>\n",
       "      <th>Age</th>\n",
       "      <th>Gender</th>\n",
       "      <th>Revenue_Total</th>\n",
       "      <th>N_Purchases</th>\n",
       "      <th>Purchase_DATE</th>\n",
       "      <th>Purchase_VALUE</th>\n",
       "      <th>Pay_Method</th>\n",
       "      <th>Time_Spent</th>\n",
       "      <th>Browser</th>\n",
       "      <th>Newsletter</th>\n",
       "      <th>Voucher</th>\n",
       "    </tr>\n",
       "  </thead>\n",
       "  <tbody>\n",
       "    <tr>\n",
       "      <th>65791</th>\n",
       "      <td>570099</td>\n",
       "      <td>30</td>\n",
       "      <td>1</td>\n",
       "      <td>10.9</td>\n",
       "      <td>4</td>\n",
       "      <td>15.02.21</td>\n",
       "      <td>6.213</td>\n",
       "      <td>1</td>\n",
       "      <td>894</td>\n",
       "      <td>0</td>\n",
       "      <td>0</td>\n",
       "      <td>0</td>\n",
       "    </tr>\n",
       "    <tr>\n",
       "      <th>65792</th>\n",
       "      <td>570100</td>\n",
       "      <td>33</td>\n",
       "      <td>0</td>\n",
       "      <td>29.3</td>\n",
       "      <td>1</td>\n",
       "      <td>05.02.21</td>\n",
       "      <td>29.300</td>\n",
       "      <td>0</td>\n",
       "      <td>722</td>\n",
       "      <td>0</td>\n",
       "      <td>0</td>\n",
       "      <td>0</td>\n",
       "    </tr>\n",
       "    <tr>\n",
       "      <th>65793</th>\n",
       "      <td>570101</td>\n",
       "      <td>50</td>\n",
       "      <td>0</td>\n",
       "      <td>25.4</td>\n",
       "      <td>5</td>\n",
       "      <td>29.10.21</td>\n",
       "      <td>23.114</td>\n",
       "      <td>3</td>\n",
       "      <td>424</td>\n",
       "      <td>0</td>\n",
       "      <td>0</td>\n",
       "      <td>0</td>\n",
       "    </tr>\n",
       "    <tr>\n",
       "      <th>65794</th>\n",
       "      <td>570102</td>\n",
       "      <td>56</td>\n",
       "      <td>0</td>\n",
       "      <td>29.2</td>\n",
       "      <td>1</td>\n",
       "      <td>09.12.21</td>\n",
       "      <td>29.200</td>\n",
       "      <td>3</td>\n",
       "      <td>731</td>\n",
       "      <td>0</td>\n",
       "      <td>0</td>\n",
       "      <td>0</td>\n",
       "    </tr>\n",
       "    <tr>\n",
       "      <th>65795</th>\n",
       "      <td>570103</td>\n",
       "      <td>25</td>\n",
       "      <td>0</td>\n",
       "      <td>5.3</td>\n",
       "      <td>2</td>\n",
       "      <td>23.10.21</td>\n",
       "      <td>2.968</td>\n",
       "      <td>0</td>\n",
       "      <td>820</td>\n",
       "      <td>0</td>\n",
       "      <td>0</td>\n",
       "      <td>0</td>\n",
       "    </tr>\n",
       "  </tbody>\n",
       "</table>\n",
       "</div>"
      ],
      "text/plain": [
       "       Customer_id  Age  Gender  Revenue_Total  N_Purchases Purchase_DATE  \\\n",
       "65791       570099   30       1           10.9            4      15.02.21   \n",
       "65792       570100   33       0           29.3            1      05.02.21   \n",
       "65793       570101   50       0           25.4            5      29.10.21   \n",
       "65794       570102   56       0           29.2            1      09.12.21   \n",
       "65795       570103   25       0            5.3            2      23.10.21   \n",
       "\n",
       "       Purchase_VALUE  Pay_Method  Time_Spent  Browser  Newsletter  Voucher  \n",
       "65791           6.213           1         894        0           0        0  \n",
       "65792          29.300           0         722        0           0        0  \n",
       "65793          23.114           3         424        0           0        0  \n",
       "65794          29.200           3         731        0           0        0  \n",
       "65795           2.968           0         820        0           0        0  "
      ]
     },
     "execution_count": 9,
     "metadata": {},
     "output_type": "execute_result"
    }
   ],
   "source": [
    "# Display the last few rows of the dataset\n",
    "df.tail()"
   ]
  },
  {
   "cell_type": "markdown",
   "id": "9743936a",
   "metadata": {},
   "source": [
    "### Checking Null Values and Duplicates in the Dataset"
   ]
  },
  {
   "cell_type": "code",
   "execution_count": 4,
   "id": "4a071429",
   "metadata": {},
   "outputs": [
    {
     "data": {
      "text/plain": [
       "Customer_id       0\n",
       "Age               0\n",
       "Gender            0\n",
       "Revenue_Total     0\n",
       "N_Purchases       0\n",
       "Purchase_DATE     0\n",
       "Purchase_VALUE    0\n",
       "Pay_Method        0\n",
       "Time_Spent        0\n",
       "Browser           0\n",
       "Newsletter        0\n",
       "Voucher           0\n",
       "dtype: int64"
      ]
     },
     "execution_count": 4,
     "metadata": {},
     "output_type": "execute_result"
    }
   ],
   "source": [
    "# Check for missing values\n",
    "df.isnull().sum()\n",
    "\n"
   ]
  },
  {
   "cell_type": "code",
   "execution_count": 3,
   "id": "8aaf5c0b",
   "metadata": {},
   "outputs": [
    {
     "data": {
      "text/plain": [
       "0"
      ]
     },
     "execution_count": 3,
     "metadata": {},
     "output_type": "execute_result"
    }
   ],
   "source": [
    "# Check for duplicates in Customer_id\n",
    "df.duplicated().sum()\n"
   ]
  },
  {
   "cell_type": "code",
   "execution_count": 10,
   "id": "9b944807",
   "metadata": {},
   "outputs": [
    {
     "data": {
      "text/html": [
       "<div>\n",
       "<style scoped>\n",
       "    .dataframe tbody tr th:only-of-type {\n",
       "        vertical-align: middle;\n",
       "    }\n",
       "\n",
       "    .dataframe tbody tr th {\n",
       "        vertical-align: top;\n",
       "    }\n",
       "\n",
       "    .dataframe thead th {\n",
       "        text-align: right;\n",
       "    }\n",
       "</style>\n",
       "<table border=\"1\" class=\"dataframe\">\n",
       "  <thead>\n",
       "    <tr style=\"text-align: right;\">\n",
       "      <th></th>\n",
       "      <th>Customer_id</th>\n",
       "      <th>Age</th>\n",
       "      <th>Gender</th>\n",
       "      <th>Revenue_Total</th>\n",
       "      <th>N_Purchases</th>\n",
       "      <th>Purchase_VALUE</th>\n",
       "      <th>Pay_Method</th>\n",
       "      <th>Time_Spent</th>\n",
       "      <th>Browser</th>\n",
       "      <th>Newsletter</th>\n",
       "      <th>Voucher</th>\n",
       "    </tr>\n",
       "  </thead>\n",
       "  <tbody>\n",
       "    <tr>\n",
       "      <th>count</th>\n",
       "      <td>65796.000000</td>\n",
       "      <td>65796.000000</td>\n",
       "      <td>65796.000000</td>\n",
       "      <td>65796.000000</td>\n",
       "      <td>65796.000000</td>\n",
       "      <td>65796.000000</td>\n",
       "      <td>65796.000000</td>\n",
       "      <td>65796.000000</td>\n",
       "      <td>65796.000000</td>\n",
       "      <td>65796.000000</td>\n",
       "      <td>65796.000000</td>\n",
       "    </tr>\n",
       "    <tr>\n",
       "      <th>mean</th>\n",
       "      <td>537205.500000</td>\n",
       "      <td>39.592696</td>\n",
       "      <td>0.671348</td>\n",
       "      <td>27.732935</td>\n",
       "      <td>3.992477</td>\n",
       "      <td>15.968699</td>\n",
       "      <td>1.308651</td>\n",
       "      <td>598.925603</td>\n",
       "      <td>0.630935</td>\n",
       "      <td>0.151027</td>\n",
       "      <td>0.250258</td>\n",
       "    </tr>\n",
       "    <tr>\n",
       "      <th>std</th>\n",
       "      <td>18993.813493</td>\n",
       "      <td>13.825466</td>\n",
       "      <td>0.469727</td>\n",
       "      <td>14.941878</td>\n",
       "      <td>2.004370</td>\n",
       "      <td>13.229295</td>\n",
       "      <td>1.081959</td>\n",
       "      <td>277.833635</td>\n",
       "      <td>0.996407</td>\n",
       "      <td>0.358078</td>\n",
       "      <td>0.433165</td>\n",
       "    </tr>\n",
       "    <tr>\n",
       "      <th>min</th>\n",
       "      <td>504308.000000</td>\n",
       "      <td>16.000000</td>\n",
       "      <td>0.000000</td>\n",
       "      <td>0.500000</td>\n",
       "      <td>1.000000</td>\n",
       "      <td>0.005000</td>\n",
       "      <td>0.000000</td>\n",
       "      <td>120.000000</td>\n",
       "      <td>0.000000</td>\n",
       "      <td>0.000000</td>\n",
       "      <td>0.000000</td>\n",
       "    </tr>\n",
       "    <tr>\n",
       "      <th>25%</th>\n",
       "      <td>520756.750000</td>\n",
       "      <td>28.000000</td>\n",
       "      <td>0.000000</td>\n",
       "      <td>15.300000</td>\n",
       "      <td>2.000000</td>\n",
       "      <td>4.819750</td>\n",
       "      <td>0.000000</td>\n",
       "      <td>358.000000</td>\n",
       "      <td>0.000000</td>\n",
       "      <td>0.000000</td>\n",
       "      <td>0.000000</td>\n",
       "    </tr>\n",
       "    <tr>\n",
       "      <th>50%</th>\n",
       "      <td>537205.500000</td>\n",
       "      <td>40.000000</td>\n",
       "      <td>1.000000</td>\n",
       "      <td>30.100000</td>\n",
       "      <td>4.000000</td>\n",
       "      <td>12.640000</td>\n",
       "      <td>1.000000</td>\n",
       "      <td>598.000000</td>\n",
       "      <td>0.000000</td>\n",
       "      <td>0.000000</td>\n",
       "      <td>0.000000</td>\n",
       "    </tr>\n",
       "    <tr>\n",
       "      <th>75%</th>\n",
       "      <td>553654.250000</td>\n",
       "      <td>51.000000</td>\n",
       "      <td>1.000000</td>\n",
       "      <td>37.600000</td>\n",
       "      <td>6.000000</td>\n",
       "      <td>24.752000</td>\n",
       "      <td>2.000000</td>\n",
       "      <td>840.000000</td>\n",
       "      <td>1.000000</td>\n",
       "      <td>0.000000</td>\n",
       "      <td>1.000000</td>\n",
       "    </tr>\n",
       "    <tr>\n",
       "      <th>max</th>\n",
       "      <td>570103.000000</td>\n",
       "      <td>63.000000</td>\n",
       "      <td>1.000000</td>\n",
       "      <td>59.900000</td>\n",
       "      <td>7.000000</td>\n",
       "      <td>59.900000</td>\n",
       "      <td>3.000000</td>\n",
       "      <td>1080.000000</td>\n",
       "      <td>3.000000</td>\n",
       "      <td>1.000000</td>\n",
       "      <td>1.000000</td>\n",
       "    </tr>\n",
       "  </tbody>\n",
       "</table>\n",
       "</div>"
      ],
      "text/plain": [
       "         Customer_id           Age        Gender  Revenue_Total   N_Purchases  \\\n",
       "count   65796.000000  65796.000000  65796.000000   65796.000000  65796.000000   \n",
       "mean   537205.500000     39.592696      0.671348      27.732935      3.992477   \n",
       "std     18993.813493     13.825466      0.469727      14.941878      2.004370   \n",
       "min    504308.000000     16.000000      0.000000       0.500000      1.000000   \n",
       "25%    520756.750000     28.000000      0.000000      15.300000      2.000000   \n",
       "50%    537205.500000     40.000000      1.000000      30.100000      4.000000   \n",
       "75%    553654.250000     51.000000      1.000000      37.600000      6.000000   \n",
       "max    570103.000000     63.000000      1.000000      59.900000      7.000000   \n",
       "\n",
       "       Purchase_VALUE    Pay_Method    Time_Spent       Browser    Newsletter  \\\n",
       "count    65796.000000  65796.000000  65796.000000  65796.000000  65796.000000   \n",
       "mean        15.968699      1.308651    598.925603      0.630935      0.151027   \n",
       "std         13.229295      1.081959    277.833635      0.996407      0.358078   \n",
       "min          0.005000      0.000000    120.000000      0.000000      0.000000   \n",
       "25%          4.819750      0.000000    358.000000      0.000000      0.000000   \n",
       "50%         12.640000      1.000000    598.000000      0.000000      0.000000   \n",
       "75%         24.752000      2.000000    840.000000      1.000000      0.000000   \n",
       "max         59.900000      3.000000   1080.000000      3.000000      1.000000   \n",
       "\n",
       "            Voucher  \n",
       "count  65796.000000  \n",
       "mean       0.250258  \n",
       "std        0.433165  \n",
       "min        0.000000  \n",
       "25%        0.000000  \n",
       "50%        0.000000  \n",
       "75%        1.000000  \n",
       "max        1.000000  "
      ]
     },
     "execution_count": 10,
     "metadata": {},
     "output_type": "execute_result"
    }
   ],
   "source": [
    "# Getting more information about the columns\n",
    "df.describe()"
   ]
  },
  {
   "cell_type": "code",
   "execution_count": 11,
   "id": "16c103fa",
   "metadata": {},
   "outputs": [
    {
     "name": "stdout",
     "output_type": "stream",
     "text": [
      "<class 'pandas.core.frame.DataFrame'>\n",
      "RangeIndex: 65796 entries, 0 to 65795\n",
      "Data columns (total 12 columns):\n",
      " #   Column          Non-Null Count  Dtype  \n",
      "---  ------          --------------  -----  \n",
      " 0   Customer_id     65796 non-null  int64  \n",
      " 1   Age             65796 non-null  int64  \n",
      " 2   Gender          65796 non-null  int64  \n",
      " 3   Revenue_Total   65796 non-null  float64\n",
      " 4   N_Purchases     65796 non-null  int64  \n",
      " 5   Purchase_DATE   65796 non-null  object \n",
      " 6   Purchase_VALUE  65796 non-null  float64\n",
      " 7   Pay_Method      65796 non-null  int64  \n",
      " 8   Time_Spent      65796 non-null  int64  \n",
      " 9   Browser         65796 non-null  int64  \n",
      " 10  Newsletter      65796 non-null  int64  \n",
      " 11  Voucher         65796 non-null  int64  \n",
      "dtypes: float64(2), int64(9), object(1)\n",
      "memory usage: 6.0+ MB\n"
     ]
    }
   ],
   "source": [
    "# Checking the datatypes of each column\n",
    "df.info()"
   ]
  },
  {
   "cell_type": "markdown",
   "id": "520bd6b7",
   "metadata": {},
   "source": [
    "### Revenue Percentage by Age Group"
   ]
  },
  {
   "cell_type": "code",
   "execution_count": 6,
   "id": "fc1a2c1f",
   "metadata": {},
   "outputs": [
    {
     "name": "stdout",
     "output_type": "stream",
     "text": [
      "int64\n",
      "count    65796.000000\n",
      "mean        39.592696\n",
      "std         13.825466\n",
      "min         16.000000\n",
      "25%         28.000000\n",
      "50%         40.000000\n",
      "75%         51.000000\n",
      "max         63.000000\n",
      "Name: Age, dtype: float64\n"
     ]
    }
   ],
   "source": [
    "print(df['Age'].dtype)\n",
    "print(df['Age'].describe())"
   ]
  },
  {
   "cell_type": "markdown",
   "id": "17513b1c",
   "metadata": {},
   "source": [
    "#### The dataset comprises 65,796 unique customers, with their ages spanning from 16 to 63 years old.\n",
    "\n",
    "The average age of these customers is 39.59 years, with the middle value (50th percentile or median) being 40 years.\n",
    "\n",
    "The youngest customer in the dataset is 16 years old, while the oldest customer is 63 years old."
   ]
  },
  {
   "cell_type": "code",
   "execution_count": 53,
   "id": "acd47359",
   "metadata": {},
   "outputs": [
    {
     "name": "stdout",
     "output_type": "stream",
     "text": [
      "  Age_Group  Revenue_Total  Revenue_Percentage\n",
      "0     16-25       375562.3           20.581957\n",
      "1     26-35       376502.2           20.633466\n",
      "2     36-45       383389.7           21.010922\n",
      "3     46-63       689262.0           37.773655\n"
     ]
    }
   ],
   "source": [
    "# Create age bins\n",
    "age_bins = [15, 25, 35, 45, 65]\n",
    "age_labels = ['16-25', '26-35', '36-45', '46-63']\n",
    "df['Age_Group'] = pd.cut(df['Age'], bins=age_bins, labels=age_labels)\n",
    "\n",
    "# Group the data by age group and calculate total revenue\n",
    "age_revenue = df.groupby('Age_Group')['Revenue_Total'].sum().reset_index()\n",
    "\n",
    "# Calculate the percentage of total revenue generated by each age group\n",
    "age_revenue['Revenue_Percentage'] = age_revenue['Revenue_Total'] / age_revenue['Revenue_Total'].sum() * 100\n",
    "\n",
    "# Print the results\n",
    "print(age_revenue)"
   ]
  },
  {
   "cell_type": "code",
   "execution_count": 8,
   "id": "5f17f94e",
   "metadata": {},
   "outputs": [
    {
     "data": {
      "image/png": "[encoded data removed]",
      "text/plain": [
       "<Figure size 640x480 with 1 Axes>"
      ]
     },
     "metadata": {},
     "output_type": "display_data"
    }
   ],
   "source": [
    "# Set up the figure and axis\n",
    "fig, ax = plt.subplots()\n",
    "\n",
    "# Create the pie chart\n",
    "ax.pie(age_revenue['Revenue_Percentage'], labels=age_revenue['Age_Group'], autopct='%1.1f%%', startangle=90)\n",
    "\n",
    "# Add a title\n",
    "ax.set_title('Revenue Percentage by Age Group')\n",
    "\n",
    "# Show the plot\n",
    "plt.show()"
   ]
  },
  {
   "cell_type": "markdown",
   "id": "c830c8e2",
   "metadata": {},
   "source": [
    "#### Customers aged 46-63 contribute the highest revenue at 37.77%.\n",
    "Revenue percentages for other age groups are similar: 16-25 (20.58%), 26-35 (20.63%), and 36-45 (21.01%).\n",
    "Targeted marketing towards the 46-63 age group could capitalize on their higher revenue contribution."
   ]
  },
  {
   "cell_type": "markdown",
   "id": "905c7bd6",
   "metadata": {},
   "source": [
    "### Distribution of Customers by Gender"
   ]
  },
  {
   "cell_type": "code",
   "execution_count": 9,
   "id": "2720475b",
   "metadata": {},
   "outputs": [
    {
     "name": "stdout",
     "output_type": "stream",
     "text": [
      "Male percentage: 32.87%\n",
      "Female percentage: 67.13%\n"
     ]
    }
   ],
   "source": [
    "gender_counts = df['Gender'].value_counts()\n",
    "total_customers = gender_counts.sum()\n",
    "\n",
    "male_percent = (gender_counts[0] / total_customers) * 100\n",
    "female_percent = (gender_counts[1] / total_customers) * 100\n",
    "\n",
    "print(f\"Male percentage: {male_percent:.2f}%\")\n",
    "print(f\"Female percentage: {female_percent:.2f}%\")"
   ]
  },
  {
   "cell_type": "code",
   "execution_count": 17,
   "id": "0f727306",
   "metadata": {},
   "outputs": [
    {
     "data": {
      "image/png": "[encoded data removed]",
      "text/plain": [
       "<Figure size 640x480 with 1 Axes>"
      ]
     },
     "metadata": {},
     "output_type": "display_data"
    }
   ],
   "source": [
    "gender_counts = df['Gender'].value_counts()\n",
    "labels = ['Male', 'Female']\n",
    "\n",
    "plt.pie(gender_counts, labels=labels, autopct='%1.1f%%')\n",
    "plt.title('Distribution of Customers by Gender')\n",
    "plt.show()"
   ]
  },
  {
   "cell_type": "markdown",
   "id": "3b947e63",
   "metadata": {},
   "source": [
    "#### Based on the pie chart of the gender distribution, we can see that around 67.1% of the customers in this dataset are female, while 32.9% are male."
   ]
  },
  {
   "cell_type": "markdown",
   "id": "d0fd797f",
   "metadata": {},
   "source": [
    "### Total Revenue by Gender"
   ]
  },
  {
   "cell_type": "code",
   "execution_count": 10,
   "id": "171b7932",
   "metadata": {},
   "outputs": [
    {
     "name": "stdout",
     "output_type": "stream",
     "text": [
      "   Gender  Revenue_Total  Revenue_Percentage\n",
      "0       0       600161.5           32.890676\n",
      "1       1      1224554.7           67.109324\n"
     ]
    }
   ],
   "source": [
    "gender_revenue = df.groupby('Gender')['Revenue_Total'].sum().reset_index()\n",
    "gender_revenue['Revenue_Percentage'] = gender_revenue['Revenue_Total'] / gender_revenue['Revenue_Total'].sum() * 100\n",
    "print(gender_revenue)"
   ]
  },
  {
   "cell_type": "code",
   "execution_count": 11,
   "id": "fbf9d86f",
   "metadata": {},
   "outputs": [
    {
     "data": {
      "image/png": "[encoded data removed]",
      "text/plain": [
       "<Figure size 640x480 with 1 Axes>"
      ]
     },
     "metadata": {},
     "output_type": "display_data"
    }
   ],
   "source": [
    "plt.pie(gender_revenue['Revenue_Total'], labels=['Male', 'Female'], autopct='%1.1f%%')\n",
    "plt.title('Total Revenue by Gender')\n",
    "plt.show()"
   ]
  },
  {
   "cell_type": "markdown",
   "id": "78741d71",
   "metadata": {},
   "source": [
    "#### Female customers contribute 67.11% of the total revenue, surpassing males (32.89%).\n",
    "The higher revenue from females suggests a potentially larger female customer base."
   ]
  },
  {
   "cell_type": "markdown",
   "id": "e7548621",
   "metadata": {},
   "source": [
    "### No of purchases"
   ]
  },
  {
   "cell_type": "code",
   "execution_count": 12,
   "id": "c0695d37",
   "metadata": {},
   "outputs": [
    {
     "name": "stdout",
     "output_type": "stream",
     "text": [
      "count    65796.000000\n",
      "mean         3.992477\n",
      "std          2.004370\n",
      "min          1.000000\n",
      "25%          2.000000\n",
      "50%          4.000000\n",
      "75%          6.000000\n",
      "max          7.000000\n",
      "Name: N_Purchases, dtype: float64\n"
     ]
    }
   ],
   "source": [
    "print(df['N_Purchases'].describe())"
   ]
  },
  {
   "cell_type": "markdown",
   "id": "95e46fff",
   "metadata": {},
   "source": [
    "#### The average number of purchases per customer is approximately 4.\n",
    "The low standard deviation implies consistency in purchase frequency among most customers.\n",
    "The range of purchases spans from 1 to 7, with no customers making more than 7 purchases.\n",
    "The median purchase count is 4, indicating an even split between customers making 4 or fewer purchases and those making more than 4."
   ]
  },
  {
   "cell_type": "markdown",
   "id": "f5d27e79",
   "metadata": {},
   "source": [
    "### Total Revenue by Month"
   ]
  },
  {
   "cell_type": "code",
   "execution_count": 13,
   "id": "4d47b9a4",
   "metadata": {},
   "outputs": [
    {
     "data": {
      "image/png": "[encoded data removed]",
      "text/plain": [
       "<Figure size 1000x600 with 1 Axes>"
      ]
     },
     "metadata": {},
     "output_type": "display_data"
    }
   ],
   "source": [
    "# Convert purchase date to datetime format\n",
    "df['Purchase_DATE'] = pd.to_datetime(df['Purchase_DATE'], format='%d.%m.%y')\n",
    "\n",
    "# Aggregate data by month and calculate total revenue\n",
    "monthly_revenue = df.groupby(pd.Grouper(key='Purchase_DATE', freq='M'))['Revenue_Total'].sum()\n",
    "\n",
    "# Plot monthly revenue\n",
    "fig, ax = plt.subplots(figsize=(10, 6))\n",
    "monthly_revenue.plot(kind='line', ax=ax)\n",
    "ax.set_xlabel('Month')\n",
    "ax.set_ylabel('Total Revenue (€)')\n",
    "ax.set_title('Total Revenue by Month')\n",
    "plt.show()"
   ]
  },
  {
   "cell_type": "code",
   "execution_count": 14,
   "id": "03e4abaa",
   "metadata": {},
   "outputs": [
    {
     "data": {
      "text/plain": [
       "Purchase_DATE\n",
       "2021-01-31    155080.9\n",
       "2021-02-28    138002.9\n",
       "2021-03-31    153033.8\n",
       "2021-04-30    150651.5\n",
       "2021-05-31    154229.4\n",
       "2021-06-30    149994.9\n",
       "2021-07-31    151661.3\n",
       "2021-08-31    154860.3\n",
       "2021-09-30    151553.3\n",
       "2021-10-31    155362.4\n",
       "2021-11-30    147957.0\n",
       "2021-12-31    157438.0\n",
       "2022-01-31      4890.5\n",
       "Freq: M, Name: Revenue_Total, dtype: float64"
      ]
     },
     "execution_count": 14,
     "metadata": {},
     "output_type": "execute_result"
    }
   ],
   "source": [
    "monthly_revenue"
   ]
  },
  {
   "cell_type": "markdown",
   "id": "e82ac1b4",
   "metadata": {},
   "source": [
    "#### The peak monthly revenue occurred in December 2021, reaching 157438.0 units, while the lowest was in January 2022 at 4890.5 units.\n",
    "Revenue shows fluctuations throughout the year but maintains a degree of overall stability."
   ]
  },
  {
   "cell_type": "code",
   "execution_count": 15,
   "id": "d73dad65",
   "metadata": {},
   "outputs": [
    {
     "data": {
      "text/plain": [
       "151661.3"
      ]
     },
     "execution_count": 15,
     "metadata": {},
     "output_type": "execute_result"
    }
   ],
   "source": [
    "monthly_revenue.median()"
   ]
  },
  {
   "cell_type": "markdown",
   "id": "e559ce08",
   "metadata": {},
   "source": [
    "### Purchase_VALUE"
   ]
  },
  {
   "cell_type": "code",
   "execution_count": 17,
   "id": "bffc6335",
   "metadata": {},
   "outputs": [
    {
     "name": "stdout",
     "output_type": "stream",
     "text": [
      "float64\n",
      "count    65796.000000\n",
      "mean        15.968699\n",
      "std         13.229295\n",
      "min          0.005000\n",
      "25%          4.819750\n",
      "50%         12.640000\n",
      "75%         24.752000\n",
      "max         59.900000\n",
      "Name: Purchase_VALUE, dtype: float64\n"
     ]
    }
   ],
   "source": [
    "print(df['Purchase_VALUE'].dtype)\n",
    "print(df['Purchase_VALUE'].describe())"
   ]
  },
  {
   "cell_type": "markdown",
   "id": "4d5a264b",
   "metadata": {},
   "source": [
    "#### The minimum purchase value is 0.005 and the maximum purchase value is 59.90"
   ]
  },
  {
   "cell_type": "markdown",
   "id": "bc54bf8f",
   "metadata": {},
   "source": [
    "### Payment Method Distribution"
   ]
  },
  {
   "cell_type": "code",
   "execution_count": 19,
   "id": "59e44974",
   "metadata": {},
   "outputs": [
    {
     "name": "stdout",
     "output_type": "stream",
     "text": [
      "int64\n"
     ]
    }
   ],
   "source": [
    "print(df['Pay_Method'].dtype)"
   ]
  },
  {
   "cell_type": "code",
   "execution_count": 20,
   "id": "646f9233",
   "metadata": {},
   "outputs": [
    {
     "data": {
      "text/plain": [
       "array([1, 2, 0, 3], dtype=int64)"
      ]
     },
     "execution_count": 20,
     "metadata": {},
     "output_type": "execute_result"
    }
   ],
   "source": [
    "df['Pay_Method'].unique()"
   ]
  },
  {
   "cell_type": "markdown",
   "id": "8d089e45",
   "metadata": {},
   "source": [
    "### Payment Method\n",
    "0: Digital Wallets\n",
    "1: Card\n",
    "2: PayPal\n",
    "3: Other"
   ]
  },
  {
   "cell_type": "code",
   "execution_count": 26,
   "id": "5bbe10ea",
   "metadata": {},
   "outputs": [],
   "source": [
    "# Count the number of each payment method\n",
    "payment_counts = df['Pay_Method'].value_counts()\n",
    "\n",
    "# Convert the counts to percentages\n",
    "payment_percents = payment_counts / len(df) * 100"
   ]
  },
  {
   "cell_type": "code",
   "execution_count": 27,
   "id": "16325ac6",
   "metadata": {},
   "outputs": [
    {
     "data": {
      "text/plain": [
       "1    30.023102\n",
       "0    28.991124\n",
       "2    22.115326\n",
       "3    18.870448\n",
       "Name: Pay_Method, dtype: float64"
      ]
     },
     "execution_count": 27,
     "metadata": {},
     "output_type": "execute_result"
    }
   ],
   "source": [
    "payment_percents"
   ]
  },
  {
   "cell_type": "code",
   "execution_count": 30,
   "id": "5af186d9",
   "metadata": {},
   "outputs": [
    {
     "data": {
      "image/png": "[encoded data removed]",
      "text/plain": [
       "<Figure size 640x480 with 1 Axes>"
      ]
     },
     "metadata": {},
     "output_type": "display_data"
    }
   ],
   "source": [
    "# count the number of occurrences of each payment method\n",
    "counts = df['Pay_Method'].value_counts()\n",
    "\n",
    "# create a pie chart with labels for each payment method\n",
    "labels = ['Digital Wallets', 'Card', 'PayPal', 'Other']\n",
    "plt.pie(counts, labels=labels, autopct='%1.1f%%')\n",
    "\n",
    "# add a title\n",
    "plt.title('Payment Method Distribution')\n",
    "\n",
    "# display the chart\n",
    "plt.show()"
   ]
  },
  {
   "cell_type": "markdown",
   "id": "001c0063",
   "metadata": {},
   "source": [
    "#### The primary payment method utilized is cards, representing 30.02% of total purchases.\n",
    "#### Digital wallets rank as the second most popular choice, comprising 28.99% of purchases.\n",
    "#### PayPal stands as the third most common payment method, accounting for 22.12% of purchases.\n",
    "#### Other payment methods, such as cash, bank transfers, or alternative options, contribute 18.87% to total purchases."
   ]
  },
  {
   "cell_type": "code",
   "execution_count": 34,
   "id": "7aff8253",
   "metadata": {},
   "outputs": [
    {
     "name": "stdout",
     "output_type": "stream",
     "text": [
      "count    65796.000000\n",
      "mean       598.925603\n",
      "std        277.833635\n",
      "min        120.000000\n",
      "25%        358.000000\n",
      "50%        598.000000\n",
      "75%        840.000000\n",
      "max       1080.000000\n",
      "Name: Time_Spent, dtype: float64\n"
     ]
    }
   ],
   "source": [
    "print(df['Time_Spent'].describe())"
   ]
  },
  {
   "cell_type": "markdown",
   "id": "bc46f818",
   "metadata": {},
   "source": [
    "###### Time_Spent = time spent (in sec) on website"
   ]
  },
  {
   "cell_type": "markdown",
   "id": "9c59456c",
   "metadata": {},
   "source": [
    "#### The average time spent is approximately 599 seconds (or around 10 minutes) per purchase.\n",
    "The minimum time spent is 120 seconds (or 2 minutes) per purchase.\n",
    "The maximum time spent is 1080 seconds (or 18 minutes) per purchase."
   ]
  },
  {
   "cell_type": "markdown",
   "id": "0e0fda1e",
   "metadata": {},
   "source": [
    "### most commonly used browser"
   ]
  },
  {
   "cell_type": "markdown",
   "id": "3328160c",
   "metadata": {},
   "source": [
    "## Browser\n",
    "\n",
    "0: Chrome\n",
    "1: Safari\n",
    "2: Edge\n",
    "3: Other"
   ]
  },
  {
   "cell_type": "code",
   "execution_count": 35,
   "id": "61bc13ea",
   "metadata": {},
   "outputs": [
    {
     "name": "stdout",
     "output_type": "stream",
     "text": [
      "0    42076\n",
      "1    13135\n",
      "3     7208\n",
      "2     3377\n",
      "Name: Browser, dtype: int64\n"
     ]
    }
   ],
   "source": [
    "browser_count = df['Browser'].value_counts()\n",
    "print(browser_count)"
   ]
  },
  {
   "cell_type": "code",
   "execution_count": 36,
   "id": "a9608404",
   "metadata": {},
   "outputs": [
    {
     "data": {
      "image/png": "[encoded data removed]",
      "text/plain": [
       "<Figure size 640x480 with 1 Axes>"
      ]
     },
     "metadata": {},
     "output_type": "display_data"
    }
   ],
   "source": [
    "# Count the number of occurrences of each browser\n",
    "browser_counts = df['Browser'].value_counts()\n",
    "\n",
    "# Create a pie chart\n",
    "labels = ['Chrome', 'Safari', 'Edge', 'Other']\n",
    "sizes = [browser_counts.get(0, 0), browser_counts.get(1, 0), browser_counts.get(2, 0), browser_counts.get(3, 0)]\n",
    "colors = ['orange', 'lightblue', 'green', 'pink']\n",
    "explode = (0.05, 0.05, 0.05, 0.05)\n",
    "\n",
    "plt.pie(sizes, labels=labels, colors=colors, explode=explode, autopct='%1.1f%%', startangle=90)\n",
    "plt.axis('equal')\n",
    "\n",
    "# Add a title\n",
    "plt.title('Percentage of Browsers Used')\n",
    "\n",
    "# Show the chart\n",
    "plt.show()"
   ]
  },
  {
   "cell_type": "code",
   "execution_count": 37,
   "id": "5d1725a9",
   "metadata": {},
   "outputs": [
    {
     "data": {
      "text/plain": [
       "0    42076\n",
       "1    13135\n",
       "3     7208\n",
       "2     3377\n",
       "Name: Browser, dtype: int64"
      ]
     },
     "execution_count": 37,
     "metadata": {},
     "output_type": "execute_result"
    }
   ],
   "source": [
    "browser_counts"
   ]
  },
  {
   "cell_type": "markdown",
   "id": "13bfc9dd",
   "metadata": {},
   "source": [
    "#### Chrome is the most commonly used browser, followed by Safari, Other and Edge.\n",
    "\n",
    "It appears that Chrome is significantly more popular than the other browsers, as it has over three times as many users as Safari, and over twelve times as many users as Edge."
   ]
  },
  {
   "cell_type": "markdown",
   "id": "34fe7ca8",
   "metadata": {},
   "source": [
    "### Percentage of Newsletter Subscribers"
   ]
  },
  {
   "cell_type": "markdown",
   "id": "ae52a7c8",
   "metadata": {},
   "source": [
    "### Newsletter\n",
    "\n",
    "0: not subscribed\n",
    "1: subscribed"
   ]
  },
  {
   "cell_type": "code",
   "execution_count": 38,
   "id": "08900435",
   "metadata": {},
   "outputs": [
    {
     "data": {
      "image/png": "[encoded data removed]",
      "text/plain": [
       "<Figure size 640x480 with 1 Axes>"
      ]
     },
     "metadata": {},
     "output_type": "display_data"
    }
   ],
   "source": [
    "newsletter_counts = df['Newsletter'].value_counts()\n",
    "newsletter_percents = newsletter_counts / newsletter_counts.sum() * 100\n",
    "\n",
    "labels = ['Not Subscribed', 'Subscribed']\n",
    "plt.pie(newsletter_percents, labels=labels, autopct='%1.1f%%')\n",
    "plt.title('Percentage of Newsletter Subscribers')\n",
    "plt.show()"
   ]
  },
  {
   "cell_type": "code",
   "execution_count": 39,
   "id": "40cc31c4",
   "metadata": {},
   "outputs": [
    {
     "data": {
      "text/plain": [
       "0    84.897258\n",
       "1    15.102742\n",
       "Name: Newsletter, dtype: float64"
      ]
     },
     "execution_count": 39,
     "metadata": {},
     "output_type": "execute_result"
    }
   ],
   "source": [
    "newsletter_percents"
   ]
  },
  {
   "cell_type": "markdown",
   "id": "228cec6f",
   "metadata": {},
   "source": [
    "#### 84.9% of the customers have not subscribed to the newsletter, while only 15.1% have subscribed."
   ]
  },
  {
   "cell_type": "markdown",
   "id": "2316fe86",
   "metadata": {},
   "source": [
    "### Percentage of Customers who have Used Vouchers\n",
    "0: not used\n",
    "1: used"
   ]
  },
  {
   "cell_type": "code",
   "execution_count": 40,
   "id": "c3112afc",
   "metadata": {},
   "outputs": [
    {
     "data": {
      "text/plain": [
       "0    49330\n",
       "1    16466\n",
       "Name: Voucher, dtype: int64"
      ]
     },
     "execution_count": 40,
     "metadata": {},
     "output_type": "execute_result"
    }
   ],
   "source": [
    "# Get the voucher counts\n",
    "voucher_counts = df['Voucher'].value_counts()\n",
    "voucher_counts"
   ]
  },
  {
   "cell_type": "code",
   "execution_count": 41,
   "id": "df658c41",
   "metadata": {},
   "outputs": [
    {
     "data": {
      "image/png": "[encoded data removed]",
      "text/plain": [
       "<Figure size 640x480 with 1 Axes>"
      ]
     },
     "metadata": {},
     "output_type": "display_data"
    }
   ],
   "source": [
    "voucher_percents = voucher_counts / voucher_counts.sum() * 100\n",
    "labels = ['No Voucher', 'Used Voucher']\n",
    "colors = ['#ff9999','#66b3ff']\n",
    "explode = (0.05, 0)\n",
    "\n",
    "plt.pie(voucher_percents, explode=explode, labels=labels, colors=colors, autopct='%1.1f%%', startangle=90)\n",
    "plt.axis('equal')\n",
    "plt.title('Percentage of Customers who have Used Vouchers')\n",
    "plt.show()"
   ]
  },
  {
   "cell_type": "markdown",
   "id": "5c50824b",
   "metadata": {},
   "source": [
    "#### we can see that there are 75% customers who have not used any voucher, and 25% customers who have used at least one voucher."
   ]
  },
  {
   "cell_type": "markdown",
   "id": "3c857262",
   "metadata": {},
   "source": [
    "### Newsletter subscription does have any significant impact on voucher usage?"
   ]
  },
  {
   "cell_type": "code",
   "execution_count": 45,
   "id": "2c23726e",
   "metadata": {},
   "outputs": [
    {
     "data": {
      "text/html": [
       "<div>\n",
       "<style scoped>\n",
       "    .dataframe tbody tr th:only-of-type {\n",
       "        vertical-align: middle;\n",
       "    }\n",
       "\n",
       "    .dataframe tbody tr th {\n",
       "        vertical-align: top;\n",
       "    }\n",
       "\n",
       "    .dataframe thead th {\n",
       "        text-align: right;\n",
       "    }\n",
       "</style>\n",
       "<table border=\"1\" class=\"dataframe\">\n",
       "  <thead>\n",
       "    <tr style=\"text-align: right;\">\n",
       "      <th></th>\n",
       "      <th>Voucher</th>\n",
       "    </tr>\n",
       "    <tr>\n",
       "      <th>Newsletter</th>\n",
       "      <th></th>\n",
       "    </tr>\n",
       "  </thead>\n",
       "  <tbody>\n",
       "    <tr>\n",
       "      <th>0</th>\n",
       "      <td>0.249485</td>\n",
       "    </tr>\n",
       "    <tr>\n",
       "      <th>1</th>\n",
       "      <td>0.254604</td>\n",
       "    </tr>\n",
       "  </tbody>\n",
       "</table>\n",
       "</div>"
      ],
      "text/plain": [
       "             Voucher\n",
       "Newsletter          \n",
       "0           0.249485\n",
       "1           0.254604"
      ]
     },
     "execution_count": 45,
     "metadata": {},
     "output_type": "execute_result"
    }
   ],
   "source": [
    "voucher_pivot = pd.pivot_table(df, values='Voucher', index='Newsletter', aggfunc=np.mean)\n",
    "voucher_pivot"
   ]
  },
  {
   "cell_type": "markdown",
   "id": "9f0c5187",
   "metadata": {},
   "source": [
    "#### The percentage of customers utilizing vouchers remains nearly identical for both groups. Specifically, 24.94% of customers who did not subscribe to the newsletter used vouchers, compared to 25.46% of customers who subscribed to the newsletter.\n",
    "\n",
    "Hence, we can infer that subscribing to the newsletter does not exert a substantial influence on the utilization of vouchers."
   ]
  },
  {
   "cell_type": "markdown",
   "id": "6d83a1b5",
   "metadata": {},
   "source": [
    "### Analyzing the impact of the browser on newsletter subscription"
   ]
  },
  {
   "cell_type": "code",
   "execution_count": 46,
   "id": "2eb7304b",
   "metadata": {},
   "outputs": [
    {
     "data": {
      "text/plain": [
       "<Axes: xlabel='Newsletter', ylabel='Browser'>"
      ]
     },
     "execution_count": 46,
     "metadata": {},
     "output_type": "execute_result"
    },
    {
     "data": {
      "image/png": "[encoded data removed]",
      "text/plain": [
       "<Figure size 640x480 with 2 Axes>"
      ]
     },
     "metadata": {},
     "output_type": "display_data"
    }
   ],
   "source": [
    "browser_newsletter_pivot = pd.pivot_table(df, values='Customer_id', index='Browser', columns='Newsletter', aggfunc=lambda x: len(x.unique()))\n",
    "sns.heatmap(browser_newsletter_pivot, annot=True, fmt='g', cmap='Blues')"
   ]
  },
  {
   "cell_type": "code",
   "execution_count": 47,
   "id": "9034a943",
   "metadata": {},
   "outputs": [
    {
     "data": {
      "text/html": [
       "<div>\n",
       "<style scoped>\n",
       "    .dataframe tbody tr th:only-of-type {\n",
       "        vertical-align: middle;\n",
       "    }\n",
       "\n",
       "    .dataframe tbody tr th {\n",
       "        vertical-align: top;\n",
       "    }\n",
       "\n",
       "    .dataframe thead th {\n",
       "        text-align: right;\n",
       "    }\n",
       "</style>\n",
       "<table border=\"1\" class=\"dataframe\">\n",
       "  <thead>\n",
       "    <tr style=\"text-align: right;\">\n",
       "      <th>Newsletter</th>\n",
       "      <th>0</th>\n",
       "      <th>1</th>\n",
       "    </tr>\n",
       "    <tr>\n",
       "      <th>Browser</th>\n",
       "      <th></th>\n",
       "      <th></th>\n",
       "    </tr>\n",
       "  </thead>\n",
       "  <tbody>\n",
       "    <tr>\n",
       "      <th>0</th>\n",
       "      <td>35726</td>\n",
       "      <td>6350</td>\n",
       "    </tr>\n",
       "    <tr>\n",
       "      <th>1</th>\n",
       "      <td>11182</td>\n",
       "      <td>1953</td>\n",
       "    </tr>\n",
       "    <tr>\n",
       "      <th>2</th>\n",
       "      <td>2869</td>\n",
       "      <td>508</td>\n",
       "    </tr>\n",
       "    <tr>\n",
       "      <th>3</th>\n",
       "      <td>6082</td>\n",
       "      <td>1126</td>\n",
       "    </tr>\n",
       "  </tbody>\n",
       "</table>\n",
       "</div>"
      ],
      "text/plain": [
       "Newsletter      0     1\n",
       "Browser                \n",
       "0           35726  6350\n",
       "1           11182  1953\n",
       "2            2869   508\n",
       "3            6082  1126"
      ]
     },
     "execution_count": 47,
     "metadata": {},
     "output_type": "execute_result"
    }
   ],
   "source": [
    "browser_newsletter_pivot"
   ]
  },
  {
   "cell_type": "markdown",
   "id": "4017a54f",
   "metadata": {},
   "source": [
    "#### Most subscribers and non-subscribers use Chrome as their browser.\n",
    "Safari is the second most popular browser for both groups.\n",
    "However, there are differences in subscriber-to-non-subscriber ratios across browsers.\n",
    "Safari users have a relatively higher proportion of subscribers, while Edge and Other browser users have a higher proportion of non-subscribers.\n",
    "This implies that the influence of newsletters on voucher usage may vary based on the browser type."
   ]
  },
  {
   "cell_type": "markdown",
   "id": "011da5e5",
   "metadata": {},
   "source": [
    "### Payment Method by Age Group"
   ]
  },
  {
   "cell_type": "code",
   "execution_count": 54,
   "id": "0cd084c7",
   "metadata": {},
   "outputs": [
    {
     "data": {
      "image/png": "[encoded data removed]",
      "text/plain": [
       "<Figure size 640x480 with 1 Axes>"
      ]
     },
     "metadata": {},
     "output_type": "display_data"
    }
   ],
   "source": [
    "# group the data by age group and payment method\n",
    "age_pay = df.groupby(['Age_Group', 'Pay_Method'])['Customer_id'].count().unstack()\n",
    "\n",
    "# plot the stacked bar chart\n",
    "age_pay.plot(kind='bar', stacked=True)\n",
    "\n",
    "# add labels and title\n",
    "plt.title('Payment Method by Age Group')\n",
    "plt.xlabel('Age Group')\n",
    "plt.ylabel('Count')\n",
    "plt.xticks(rotation=0)\n",
    "\n",
    "# show the plot\n",
    "plt.show()\n"
   ]
  },
  {
   "cell_type": "code",
   "execution_count": 55,
   "id": "bf1c2d45",
   "metadata": {},
   "outputs": [
    {
     "data": {
      "text/html": [
       "<div>\n",
       "<style scoped>\n",
       "    .dataframe tbody tr th:only-of-type {\n",
       "        vertical-align: middle;\n",
       "    }\n",
       "\n",
       "    .dataframe tbody tr th {\n",
       "        vertical-align: top;\n",
       "    }\n",
       "\n",
       "    .dataframe thead th {\n",
       "        text-align: right;\n",
       "    }\n",
       "</style>\n",
       "<table border=\"1\" class=\"dataframe\">\n",
       "  <thead>\n",
       "    <tr style=\"text-align: right;\">\n",
       "      <th>Pay_Method</th>\n",
       "      <th>0</th>\n",
       "      <th>1</th>\n",
       "      <th>2</th>\n",
       "      <th>3</th>\n",
       "    </tr>\n",
       "    <tr>\n",
       "      <th>Age_Group</th>\n",
       "      <th></th>\n",
       "      <th></th>\n",
       "      <th></th>\n",
       "      <th></th>\n",
       "    </tr>\n",
       "  </thead>\n",
       "  <tbody>\n",
       "    <tr>\n",
       "      <th>16-25</th>\n",
       "      <td>3957</td>\n",
       "      <td>4020</td>\n",
       "      <td>2985</td>\n",
       "      <td>2577</td>\n",
       "    </tr>\n",
       "    <tr>\n",
       "      <th>26-35</th>\n",
       "      <td>3957</td>\n",
       "      <td>4137</td>\n",
       "      <td>2977</td>\n",
       "      <td>2561</td>\n",
       "    </tr>\n",
       "    <tr>\n",
       "      <th>36-45</th>\n",
       "      <td>3956</td>\n",
       "      <td>4176</td>\n",
       "      <td>2981</td>\n",
       "      <td>2625</td>\n",
       "    </tr>\n",
       "    <tr>\n",
       "      <th>46-63</th>\n",
       "      <td>7205</td>\n",
       "      <td>7421</td>\n",
       "      <td>5608</td>\n",
       "      <td>4653</td>\n",
       "    </tr>\n",
       "  </tbody>\n",
       "</table>\n",
       "</div>"
      ],
      "text/plain": [
       "Pay_Method     0     1     2     3\n",
       "Age_Group                         \n",
       "16-25       3957  4020  2985  2577\n",
       "26-35       3957  4137  2977  2561\n",
       "36-45       3956  4176  2981  2625\n",
       "46-63       7205  7421  5608  4653"
      ]
     },
     "execution_count": 55,
     "metadata": {},
     "output_type": "execute_result"
    }
   ],
   "source": [
    "age_pay"
   ]
  },
  {
   "cell_type": "markdown",
   "id": "8f6afba5",
   "metadata": {},
   "source": [
    "#### Across all age groups, the preferred payment method is method 1 (card), trailed by method 2 (PayPal), method 0 (digital wallets), and method 3 (other). Notably, payments using method 0 remain relatively stable across all age demographics.\n",
    "\n",
    "Yet, the age group of 46-63 exhibits the highest usage of method 1 (card) and method 2 (PayPal) compared to other age brackets."
   ]
  },
  {
   "cell_type": "markdown",
   "id": "9af2eec2",
   "metadata": {},
   "source": [
    "### Key insights from this dataset:"
   ]
  },
  {
   "cell_type": "markdown",
   "id": "79438efa",
   "metadata": {},
   "source": [
    "#### Most customers are between 26-35 years old, followed by those aged 36-45.\n",
    "Digital wallets and cards are the top payment choices, while PayPal and other methods are less popular.\n",
    "On average, customers spend about 598 seconds (roughly 10 minutes) on the website, with some variability.\n",
    "Safari users spend the most time on the website, while users of other browsers spend the least time.\n",
    "More than 84% of customers are subscribed to the newsletter.\n",
    "Subscribing to the newsletter doesn't significantly affect revenue.\n",
    "Time spent on the website doesn't clearly impact how much customers spend.\n",
    "The time customers spend on the website is mostly evenly spread out.\n",
    "Customers of all ages mainly use digital wallets and cards, although the specific percentages vary.\n",
    "Over time, there's a small increase in the time customers spend on the website.\n",
    "\n",
    "\n",
    "\n",
    "\n",
    "\n"
   ]
  },
  {
   "cell_type": "code",
   "execution_count": null,
   "id": "baa0d762",
   "metadata": {},
   "outputs": [],
   "source": []
  },
  {
   "cell_type": "code",
   "execution_count": null,
   "id": "f33fecc1",
   "metadata": {},
   "outputs": [],
   "source": []
  }
 ],
 "metadata": {
  "kernelspec": {
   "display_name": "Python 3 (ipykernel)",
   "language": "python",
   "name": "python3"
  },
  "language_info": {
   "codemirror_mode": {
    "name": "ipython",
    "version": 3
   },
   "file_extension": ".py",
   "mimetype": "text/x-python",
   "name": "python",
   "nbconvert_exporter": "python",
   "pygments_lexer": "ipython3",
   "version": "3.10.9"
  }
 },
 "nbformat": 4,
 "nbformat_minor": 5
}
